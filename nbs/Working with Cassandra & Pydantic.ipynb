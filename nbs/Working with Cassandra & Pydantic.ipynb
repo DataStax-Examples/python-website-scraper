{
 "cells": [
  {
   "cell_type": "code",
   "execution_count": 1,
   "id": "d636268a",
   "metadata": {},
   "outputs": [
    {
     "name": "stdout",
     "output_type": "stream",
     "text": [
      "/Users/cfe/Dev/fastapi-nosql\n"
     ]
    }
   ],
   "source": [
    "cd /Users/cfe/Dev/fastapi-nosql/"
   ]
  },
  {
   "cell_type": "code",
   "execution_count": 2,
   "id": "17ecc158",
   "metadata": {},
   "outputs": [],
   "source": [
    "from app import db, crud, models, schema"
   ]
  },
  {
   "cell_type": "code",
   "execution_count": 3,
   "id": "f6419ebc",
   "metadata": {},
   "outputs": [],
   "source": [
    "session = db.get_session()"
   ]
  },
  {
   "cell_type": "code",
   "execution_count": 4,
   "id": "86b2ddcc",
   "metadata": {},
   "outputs": [],
   "source": [
    "data = {'asin': 'TESTING123', 'title': 'Mark 1adsf', 'abc123': 'nothing'}"
   ]
  },
  {
   "cell_type": "code",
   "execution_count": 5,
   "id": "7402c7a9",
   "metadata": {},
   "outputs": [],
   "source": [
    "from pydantic import BaseModel"
   ]
  },
  {
   "cell_type": "code",
   "execution_count": 8,
   "id": "548a02a9",
   "metadata": {},
   "outputs": [],
   "source": [
    "class ProductBaseModel(BaseModel):\n",
    "    asin: str\n",
    "    title: str"
   ]
  },
  {
   "cell_type": "code",
   "execution_count": 9,
   "id": "21ee4f3e",
   "metadata": {},
   "outputs": [
    {
     "data": {
      "text/plain": [
       "{'asin': 'TESTING123', 'title': 'Mark 1adsf'}"
      ]
     },
     "execution_count": 9,
     "metadata": {},
     "output_type": "execute_result"
    }
   ],
   "source": [
    "product = ProductBaseModel(**data)\n",
    "product.dict()"
   ]
  },
  {
   "cell_type": "code",
   "execution_count": null,
   "id": "76efddd4",
   "metadata": {},
   "outputs": [],
   "source": [
    "crud.add_scrape_event(product.dict(), fresh=True)"
   ]
  },
  {
   "cell_type": "code",
   "execution_count": 12,
   "id": "52fad471",
   "metadata": {},
   "outputs": [
    {
     "name": "stdout",
     "output_type": "stream",
     "text": [
      "[\n",
      "  {\n",
      "    \"loc\": [\n",
      "      \"uuid\"\n",
      "    ],\n",
      "    \"msg\": \"field required\",\n",
      "    \"type\": \"value_error.missing\"\n",
      "  }\n",
      "]\n"
     ]
    }
   ],
   "source": [
    "from pydantic import ValidationError\n",
    "\n",
    "try:\n",
    "    schema.ProductScrapeEventSchema(**data)\n",
    "except ValidationError as e:\n",
    "    print(e.json())"
   ]
  },
  {
   "cell_type": "code",
   "execution_count": null,
   "id": "202909eb",
   "metadata": {},
   "outputs": [],
   "source": []
  }
 ],
 "metadata": {
  "kernelspec": {
   "display_name": "Python 3 (ipykernel)",
   "language": "python",
   "name": "python3"
  },
  "language_info": {
   "codemirror_mode": {
    "name": "ipython",
    "version": 3
   },
   "file_extension": ".py",
   "mimetype": "text/x-python",
   "name": "python",
   "nbconvert_exporter": "python",
   "pygments_lexer": "ipython3",
   "version": "3.9.7"
  }
 },
 "nbformat": 4,
 "nbformat_minor": 5
}
